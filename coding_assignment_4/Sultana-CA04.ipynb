{
 "cells": [
  {
   "cell_type": "markdown",
   "id": "d4522cb4",
   "metadata": {},
   "source": [
    "# Coding Assignment 4: Implement a Naive Bayes classifier for the Iris dataset"
   ]
  },
  {
   "cell_type": "markdown",
   "id": "0bbb957a",
   "metadata": {},
   "source": [
    "# Libraries"
   ]
  },
  {
   "cell_type": "code",
   "execution_count": 7,
   "id": "00902948",
   "metadata": {},
   "outputs": [],
   "source": [
    "##Necessary libraries\n",
    "import numpy as np\n",
    "import pandas as pd\n",
    "from sklearn.datasets import load_iris"
   ]
  },
  {
   "cell_type": "markdown",
   "id": "8f0e7cda",
   "metadata": {},
   "source": [
    "# Load the dataset"
   ]
  },
  {
   "cell_type": "code",
   "execution_count": 8,
   "id": "6a6f8732",
   "metadata": {},
   "outputs": [],
   "source": [
    "data = load_iris()\n",
    "temp = {}\n",
    "temp['data'] = data['data'].tolist()\n",
    "temp['target'] = data['target'].tolist()\n",
    "df = pd.DataFrame(temp)"
   ]
  },
  {
   "cell_type": "code",
   "execution_count": 9,
   "id": "e71804d8",
   "metadata": {},
   "outputs": [],
   "source": [
    "X = df['data']\n",
    "y = df['target']"
   ]
  },
  {
   "cell_type": "markdown",
   "id": "9da6b0aa",
   "metadata": {},
   "source": [
    "# Create a class named \"NaiveBaiyes\"that divides the whole algorithm into number of methods "
   ]
  },
  {
   "cell_type": "code",
   "execution_count": 18,
   "id": "1869b875",
   "metadata": {},
   "outputs": [],
   "source": [
    "class NaiveBaiyes:\n",
    "\n",
    "    def __init__(self):\n",
    "        pass\n",
    "\n",
    "    def separate_classes(self, X, y):\n",
    "        \"\"\"\n",
    "        Separates the dataset in a subset of data for each class. that returns a dictionnary \n",
    "        with y as keys, and the assigned X as values\n",
    "        \"\"\"\n",
    "        separated_classes = {}\n",
    "        for i in range(len(X)):\n",
    "            feature_values = X[i]\n",
    "            class_name = y[i]\n",
    "            if class_name not in separated_classes:\n",
    "                separated_classes[class_name] = [] #handles Null case\n",
    "            separated_classes[class_name].append(feature_values)\n",
    "        return separated_classes\n",
    "    \n",
    "    def summarize(self, X):\n",
    "        \"\"\"\n",
    "        Calculates mean and standard deviation for each column of X.\n",
    "        \"\"\"\n",
    "        for feature in zip(*X):\n",
    "            yield {\n",
    "                'stdev' : np.std(feature),\n",
    "                'mean' : np.mean(feature)\n",
    "            }\n",
    "          \n",
    "    def fit(self, X, y):\n",
    "        \"\"\"\n",
    "        Trains the model that returns a dictionary with the prior probability, \n",
    "        mean, and standard deviation of each class\n",
    "        \"\"\"\n",
    "        separated_classes = self.separate_classes(X, y)\n",
    "        self.class_summary = {}\n",
    "        for class_name, feature_values in separated_classes.items():\n",
    "            \"\"\"\n",
    "            Calculates prior probability, mean and std deviation for each target category (0,1 and 2)\n",
    "            \"\"\"\n",
    "            self.class_summary[class_name] = {\n",
    "                'prior_proba': len(feature_values)/len(X), ##Formula of prior probability\n",
    "                'summary': [i for i in self.summarize(feature_values)] ##Mean and std dev\n",
    "            }     \n",
    "        return self.class_summary\n",
    "    \n",
    "    def gauss_distribution_function(self, x, mean, stdev):\n",
    "        \"\"\"\n",
    "        Gaussian Distribution Function \n",
    "        \"\"\"\n",
    "        exponent = np.exp(-((x-mean)**2 / (2*stdev**2))) \n",
    "        return exponent / (np.sqrt(2*np.pi)*stdev) ##formula of gaussian distribution\n",
    "    \n",
    "    def predict(self, X):\n",
    "        \"\"\"\n",
    "        Predicts the class.\n",
    "        \"\"\"\n",
    "        predictions = []\n",
    "        for row in X:\n",
    "            joint_proba = {}\n",
    "            for class_name, features in self.class_summary.items():\n",
    "                total_features = len(features['summary'])\n",
    "                likelihood = 1\n",
    "                for idx in range(total_features):\n",
    "                    feature = row[idx]\n",
    "                    mean = features['summary'][idx]['mean'] #Extract mean info from summary\n",
    "                    stdev = features['summary'][idx]['stdev'] #Extract std dev info from summary\n",
    "                    normal_proba = self.gauss_distribution_function(feature, mean, stdev)\n",
    "                    likelihood *= normal_proba\n",
    "                prior_proba = features['prior_proba'] ##prior probability of each feature\n",
    "                joint_proba[class_name] = prior_proba * likelihood ##calculte posterior probabilities\n",
    "            p = max(joint_proba, key=joint_proba.get) ##considier the probability with highest value for the unseen\n",
    "            predictions.append(p)\n",
    "        return predictions"
   ]
  },
  {
   "cell_type": "code",
   "execution_count": 19,
   "id": "bcdca3dc",
   "metadata": {},
   "outputs": [
    {
     "data": {
      "text/plain": [
       "{0: {'prior_proba': 0.3333333333333333,\n",
       "  'summary': [{'stdev': 0.3489469873777391, 'mean': 5.006},\n",
       "   {'stdev': 0.37525458025186054, 'mean': 3.428},\n",
       "   {'stdev': 0.17191858538273283, 'mean': 1.4620000000000002},\n",
       "   {'stdev': 0.1043264108459598, 'mean': 0.24599999999999997}]},\n",
       " 1: {'prior_proba': 0.3333333333333333,\n",
       "  'summary': [{'stdev': 0.5109833656783751, 'mean': 5.936},\n",
       "   {'stdev': 0.31064449134018135, 'mean': 2.7700000000000005},\n",
       "   {'stdev': 0.4651881339845203, 'mean': 4.26},\n",
       "   {'stdev': 0.19576516544063705, 'mean': 1.3259999999999998}]},\n",
       " 2: {'prior_proba': 0.3333333333333333,\n",
       "  'summary': [{'stdev': 0.6294886813914926, 'mean': 6.587999999999998},\n",
       "   {'stdev': 0.3192553836664309, 'mean': 2.974},\n",
       "   {'stdev': 0.546347874526844, 'mean': 5.5520000000000005},\n",
       "   {'stdev': 0.2718896835115301, 'mean': 2.0260000000000002}]}}"
      ]
     },
     "execution_count": 19,
     "metadata": {},
     "output_type": "execute_result"
    }
   ],
   "source": [
    "model = NaiveBaiyes() ##Calls the class\n",
    "model.fit(X, y) #fit model with data"
   ]
  },
  {
   "cell_type": "markdown",
   "id": "b8981f35",
   "metadata": {},
   "source": [
    "# Test the model for given samples"
   ]
  },
  {
   "cell_type": "code",
   "execution_count": 20,
   "id": "b9e9702f",
   "metadata": {},
   "outputs": [
    {
     "data": {
      "text/plain": [
       "[1, 0, 2]"
      ]
     },
     "execution_count": 20,
     "metadata": {},
     "output_type": "execute_result"
    }
   ],
   "source": [
    "testSet = [[5.0, 3.1, 2.4, 1.6],[5.0, 3.1, 2.1, 0.6],[6.0, 3.1, 5.5, 2.0]]\n",
    "y_pred = model.predict(testSet)\n",
    "y_pred"
   ]
  },
  {
   "cell_type": "code",
   "execution_count": null,
   "id": "013aec73",
   "metadata": {},
   "outputs": [],
   "source": []
  }
 ],
 "metadata": {
  "kernelspec": {
   "display_name": "Python 3 (ipykernel)",
   "language": "python",
   "name": "python3"
  },
  "language_info": {
   "codemirror_mode": {
    "name": "ipython",
    "version": 3
   },
   "file_extension": ".py",
   "mimetype": "text/x-python",
   "name": "python",
   "nbconvert_exporter": "python",
   "pygments_lexer": "ipython3",
   "version": "3.9.7"
  }
 },
 "nbformat": 4,
 "nbformat_minor": 5
}

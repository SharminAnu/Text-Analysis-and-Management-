{
 "cells": [
  {
   "cell_type": "code",
   "execution_count": 68,
   "id": "5e4ba443",
   "metadata": {},
   "outputs": [],
   "source": [
    "import pandas as pd #Load pandas library to read the data"
   ]
  },
  {
   "cell_type": "markdown",
   "id": "5f80f7a3",
   "metadata": {},
   "source": [
    "# Read the Dataset and take a look into the Dataset"
   ]
  },
  {
   "cell_type": "code",
   "execution_count": 69,
   "id": "875d71fd",
   "metadata": {},
   "outputs": [],
   "source": [
    "file = \"/Users/sharminsultana/OneDrive - University of Massachusetts Lowell - UMass Lowell/Sultana, Sharmin/blueprints-text/data/un-general-debates/un-general-debates-blueprint.csv.gz\" ### directory of the dataset\n",
    "df = pd.read_csv(file) # read the dataset in CSV"
   ]
  },
  {
   "cell_type": "code",
   "execution_count": 70,
   "id": "9db5b08c",
   "metadata": {},
   "outputs": [
    {
     "name": "stdout",
     "output_type": "stream",
     "text": [
      "<class 'pandas.core.frame.DataFrame'>\n",
      "RangeIndex: 7507 entries, 0 to 7506\n",
      "Data columns (total 7 columns):\n",
      " #   Column        Non-Null Count  Dtype \n",
      "---  ------        --------------  ----- \n",
      " 0   session       7507 non-null   int64 \n",
      " 1   year          7507 non-null   int64 \n",
      " 2   country       7507 non-null   object\n",
      " 3   country_name  7507 non-null   object\n",
      " 4   speaker       7480 non-null   object\n",
      " 5   position      4502 non-null   object\n",
      " 6   text          7507 non-null   object\n",
      "dtypes: int64(2), object(5)\n",
      "memory usage: 410.7+ KB\n",
      "None\n"
     ]
    }
   ],
   "source": [
    "print (df.info()) # shows the total entries of the dataset"
   ]
  },
  {
   "cell_type": "code",
   "execution_count": 71,
   "id": "ae06bfe7",
   "metadata": {},
   "outputs": [
    {
     "name": "stdout",
     "output_type": "stream",
     "text": [
      "      session  year country                  country_name             speaker  \\\n",
      "7          25  1970     BRA                        Brazil  Mr. GIBSON BARBOZA   \n",
      "1381       35  1980     TZA  Tanzania, United Republic of               Mkapa   \n",
      "\n",
      "     position                                               text  \n",
      "7         NaN  1.\\tMr. President, I should like, first of all...  \n",
      "1381      NaN  ﻿Permit me, Sir, on my own personal behalf and...  \n"
     ]
    }
   ],
   "source": [
    "print(df.sample(2)) #print 2 random samples from the dataframe"
   ]
  },
  {
   "cell_type": "code",
   "execution_count": 72,
   "id": "4cce9e4d",
   "metadata": {},
   "outputs": [
    {
     "data": {
      "text/plain": [
       "Index(['session', 'year', 'country', 'country_name', 'speaker', 'position',\n",
       "       'text'],\n",
       "      dtype='object')"
      ]
     },
     "execution_count": 72,
     "metadata": {},
     "output_type": "execute_result"
    }
   ],
   "source": [
    "df.columns #name of the columns in the dataset"
   ]
  },
  {
   "cell_type": "code",
   "execution_count": 73,
   "id": "7548dac0",
   "metadata": {},
   "outputs": [
    {
     "data": {
      "text/plain": [
       "session          int64\n",
       "year             int64\n",
       "country         object\n",
       "country_name    object\n",
       "speaker         object\n",
       "position        object\n",
       "text            object\n",
       "dtype: object"
      ]
     },
     "execution_count": 73,
     "metadata": {},
     "output_type": "execute_result"
    }
   ],
   "source": [
    "df.dtypes #this command shows the type of each column variable"
   ]
  },
  {
   "cell_type": "code",
   "execution_count": 74,
   "id": "39103413",
   "metadata": {},
   "outputs": [
    {
     "data": {
      "text/html": [
       "<div>\n",
       "<style scoped>\n",
       "    .dataframe tbody tr th:only-of-type {\n",
       "        vertical-align: middle;\n",
       "    }\n",
       "\n",
       "    .dataframe tbody tr th {\n",
       "        vertical-align: top;\n",
       "    }\n",
       "\n",
       "    .dataframe thead th {\n",
       "        text-align: right;\n",
       "    }\n",
       "</style>\n",
       "<table border=\"1\" class=\"dataframe\">\n",
       "  <thead>\n",
       "    <tr style=\"text-align: right;\">\n",
       "      <th></th>\n",
       "      <th>count</th>\n",
       "      <th>mean</th>\n",
       "      <th>std</th>\n",
       "      <th>min</th>\n",
       "      <th>25%</th>\n",
       "      <th>50%</th>\n",
       "      <th>75%</th>\n",
       "      <th>max</th>\n",
       "    </tr>\n",
       "  </thead>\n",
       "  <tbody>\n",
       "    <tr>\n",
       "      <th>session</th>\n",
       "      <td>7507.0</td>\n",
       "      <td>49.610763</td>\n",
       "      <td>12.892155</td>\n",
       "      <td>25.0</td>\n",
       "      <td>39.0</td>\n",
       "      <td>51.0</td>\n",
       "      <td>61.0</td>\n",
       "      <td>70.0</td>\n",
       "    </tr>\n",
       "    <tr>\n",
       "      <th>year</th>\n",
       "      <td>7507.0</td>\n",
       "      <td>1994.610763</td>\n",
       "      <td>12.892155</td>\n",
       "      <td>1970.0</td>\n",
       "      <td>1984.0</td>\n",
       "      <td>1996.0</td>\n",
       "      <td>2006.0</td>\n",
       "      <td>2015.0</td>\n",
       "    </tr>\n",
       "  </tbody>\n",
       "</table>\n",
       "</div>"
      ],
      "text/plain": [
       "          count         mean        std     min     25%     50%     75%  \\\n",
       "session  7507.0    49.610763  12.892155    25.0    39.0    51.0    61.0   \n",
       "year     7507.0  1994.610763  12.892155  1970.0  1984.0  1996.0  2006.0   \n",
       "\n",
       "            max  \n",
       "session    70.0  \n",
       "year     2015.0  "
      ]
     },
     "execution_count": 74,
     "metadata": {},
     "output_type": "execute_result"
    }
   ],
   "source": [
    "df.describe().T #Statistical description of the dataset"
   ]
  },
  {
   "cell_type": "markdown",
   "id": "b96bd59c",
   "metadata": {},
   "source": [
    "# Cleaning the dataset"
   ]
  },
  {
   "cell_type": "code",
   "execution_count": 75,
   "id": "1e25128a",
   "metadata": {},
   "outputs": [
    {
     "data": {
      "text/plain": [
       "session            0\n",
       "year               0\n",
       "country            0\n",
       "country_name       0\n",
       "speaker           27\n",
       "position        3005\n",
       "text               0\n",
       "dtype: int64"
      ]
     },
     "execution_count": 75,
     "metadata": {},
     "output_type": "execute_result"
    }
   ],
   "source": [
    "df.isna().sum() #count the number of null values in the dataset"
   ]
  },
  {
   "cell_type": "code",
   "execution_count": 76,
   "id": "8373f0d3",
   "metadata": {},
   "outputs": [
    {
     "data": {
      "text/plain": [
       "session         0\n",
       "year            0\n",
       "country         0\n",
       "country_name    0\n",
       "speaker         0\n",
       "position        0\n",
       "text            0\n",
       "dtype: int64"
      ]
     },
     "execution_count": 76,
     "metadata": {},
     "output_type": "execute_result"
    }
   ],
   "source": [
    "df['speaker'].fillna('unknown',inplace=True); df['position'].fillna('unknown',inplace=True) \n",
    "### fill in null entries with 'unknown'\n",
    "df.isna().sum()"
   ]
  },
  {
   "cell_type": "markdown",
   "id": "9a0d4840",
   "metadata": {},
   "source": [
    "# Coding Assignment 1"
   ]
  },
  {
   "cell_type": "markdown",
   "id": "53fa37fb",
   "metadata": {},
   "source": [
    "# In the 2015 USA speech, count the number of appearances of \"United Nations\", replace it with \"UN\", and put the modifed text back to df."
   ]
  },
  {
   "cell_type": "code",
   "execution_count": 77,
   "id": "ba977d2b",
   "metadata": {},
   "outputs": [
    {
     "name": "stdout",
     "output_type": "stream",
     "text": [
      "'United Nations' appears 8 times.\n",
      "\n",
      "Seventy years after the founding of the United Nations it is worth reflecting on what the members of this body, working together, have helped to achieve. Out of the ashes of the Second World War, having witnessed the unthinkable power of the atomic age, the United States has worked with many nations in the Assembly to prevent a third world war — by forging alliances with old adversaries; by supporting the steady emergence of strong democracies accountable to their people and not to any foreign Power; and by building an international system that imposes a cost on those who choose conflict over cooperation, an order that recognizes the dignity and equal worth of all people.\n",
      "That has been the work of seven decades. That is the ideal that this body has, at its best, pursued. Of course, there have been too many times when, collectively, we have fallen short of those ideals. Over the seven decades, terrible conflicts have claimed untold victims. But we have pressed forward, slowly, steadily, to make a system of international rules and norms that are better and stronger and more consistent.\n",
      "It is that international order that has underwritten unparalleled advances in human liberty and prosperity. It is that collective endeavour that has brought about diplomatic cooperation among the world’s major Powers and buttressed a global economy that has lifted more than a billion people from poverty. It is those international principles that have helped constrain bigger countries from imposing their will on smaller ones and have advanced the emergence of democracy and development and individual liberty on every continent.\n",
      "That progress is real. It can be documented in lives saved, agreements forged, diseases conquered and mouths fed. And yet we come together today knowing that the march of human progress never travels in a straight line, that our work is far from complete and that dangerous currents risk pulling us back into a darker, more disordered world.\n",
      "Today we are seeing the collapse of strongmen and fragile States breeding conflict and driving innocent men, women and children across borders on an epic scale. Brutal networks of terror have stepped into the vacuum. Technologies that empower individuals are now also exploited by those who spread disinformation, suppress dissent or radicalize our youth. Global capital flows have powered growth and investment, but they have also increased the risk of contagion, weakened the bargaining power of workers and accelerated inequality.\n",
      "How should we respond to those trends? There are those who argue that the ideals enshrined in the Charter of the United Nations are unachievable or out of date, a legacy of a postwar era not suited to our own. In effect, they are arguing for a return to the rules that applied for most of human history and that predate this institution — the belief that power is a zero-sum game, that might makes right, that strong States must impose their will on weaker ones, that the rights of individuals do not matter and that in a time of rapid change, order must be imposed by force.\n",
      "On that basis, we see some major Powers assert themselves in ways that contravene international law. We see an erosion of the democratic principles and human rights that are fundamental to this institution’s mission. Information is strictly controlled and the space for civil society restricted. We are told that such retrenchment is required to beat back disorder; that it is the only way to stamp out terrorism and prevent foreign meddling. In accordance with that logic, we should support tyrants like Bashar Al-Assad, who drops barrel bombs to massacre innocent children, because the alternative is surely worse.\n",
      "This increasing scepticism of our international order can also be found in the most advanced democracies. We see greater polarization and more frequent gridlock, with movements on the far right, and sometimes the left, that insist on stopping the trade that binds our fates to other nations or calling for the building of walls to keep out immigrants. Most ominously, we see the fears of ordinary people being exploited through appeals to sectarianism, tribalism, racism or anti-Semitism; appeals to a glorious past before the body politic was infected by those who look different or worship God differently — a politics of us versus them.\n",
      "The United States is not immune to this. Even as our economy is growing and our troops have largely returned from Iraq and Afghanistan, we see in our debates about America’s role in the world a notion of strength that is defined by opposition to old enemies, perceived adversaries — a rising China or resurgent Russia, a revolutionary Iran or an Islam that is incompatible with peace. We see arguments that the only strength that matters for the United States is bellicose words and shows of military force, and that cooperation and diplomacy will not work.\n",
      "As President of the United States, I am mindful of the dangers that we face. They cross my desk every \n",
      "morning. I lead the strongest military that the world has ever known, and I will never hesitate to protect my country or our allies, unilaterally and by force where necessary. But I stand before the Assembly today believing in my core that we, the nations of the world, cannot return to the old ways of conflict and coercion. We cannot look backwards. We live in an integrated world, one in which we all have a stake in one another’s success.\n",
      "We cannot turn back those forces of integration. No nation here in the Assembly can insulate itself from the threat of terrorism, the risk of financial contagion, the flow of migrants or the danger of a warming planet. The disorder we see is not driven solely by competition between nations or by any single ideology. If we cannot work together more effectively, we will all suffer the consequences.\n",
      "That is true for the United States as well. No matter how powerful our military, how strong our economy, we understand the United States cannot solve the world’s problems alone. In Iraq, the United States learned the hard lesson that even with hundreds of thousands of brave, effective troops and trillions of dollars from our Treasury, it cannot by itself impose stability on a foreign land. Unless we work with other nations under the mantle of international norms, principles and law that offers legitimacy to our efforts, we will not succeed. And unless we work together to defeat the ideas that drive the various communities in a country like Iraq into conflict, any order that our militaries can impose will be temporary.\n",
      "Just as force alone cannot impose order internationally, I believe in my core that repression cannot forge the social cohesion that nations need to succeed. The history of the last two decades proves that in today’s world, dictatorships are unstable. The strongmen of today become the spark of revolution tomorrow. You can jail your opponents, but you cannot imprison ideas. You can try to control access to information, but you cannot turn a lie into truth. It is not a conspiracy of United States-backed non-governmental organizations that exposes corruption and raises the expectations of people around the globe — it is technology, social media and the irreducible desire of people everywhere to make their own choices about how they are governed.\n",
      "Indeed, I believe that in today’s world, the measure of strength is no longer defined by the control of territory. Lasting prosperity does not come solely from\n",
      "the ability to access and extract raw materials. The strength of nations depends on the success of their people — their knowledge, innovation, imagination, creativity, drive and opportunity — and that, in turn, depends on individual rights, good governance and personal security. Both internal repression and foreign aggression are symptoms of a failure to provide that foundation.\n",
      "Politics and solidarity that depend on demonizing others, that draw on religious sectarianism, narrow tribalism or jingoism, may at times look like strength in the moment, but over time their weakness will be exposed. And history tells us that the dark forces unleashed by this type of politics surely make all of us less secure. Our world has been there before. We gain nothing from going back.\n",
      "Instead, I believe that we must go forward in pursuit of our ideals, not abandon them at this critical time. We must give expression to our best hopes, not our deepest fears. This institution was founded because men and women who came before us had the foresight to know that our nations are more secure when we uphold basic laws and norms and pursue a path of cooperation rather than conflict. And strong nations, above all, have a responsibility to uphold that international order.\n",
      "Let me give a concrete example. After I took office, I made it clear that one of the principal achievements of the United Nations — the nuclear non-proliferation regime — was endangered by Iran’s violation of the Treaty on the Non-Proliferation of Nuclear Weapons. On that basis, the Security Council tightened sanctions on the Iranian Government, and many nations joined us to enforce them. Together, we showed that laws and agreements mean something. But we also understood that the goal of sanctions was not simply to punish Iran. Our objective was to test whether Iran could change course, accept constraints and allow the world to verify that its nuclear programme would be peaceful. For two years, the United States and our partners, including Russia and China, stuck together in complex negotiations. The result is a lasting, comprehensive deal that prevents Iran from obtaining a nuclear weapon while allowing it to access peaceful energy. If the deal is fully implemented, the prohibition on nuclear weapons is strengthened, a potential war is averted and our world is safer. That is the strength of the international system when it works the way it should.\n",
      "That same fidelity to international order guides our responses to other challenges around the world.\n",
      "Consider Russia’s annexation of Crimea and further aggression in eastern Ukraine. America has few economic interests in Ukraine, and we recognize the deep and complex history between Russia and Ukraine. But we cannot stand by when the sovereignty and territorial integrity of a nation is flagrantly violated. If that happens without consequence in Ukraine, it could happen to any of the nations gathered here today. That is the basis of the sanctions that the United States and our partners impose on Russia. It is not a desire to return to a cold war.\n",
      "Now, within Russia, State-controlled media may describe those events as an example of a resurgent Russia — a view shared, by the way, by a number of United States politicians and commentators who have always been deeply sceptical about Russia and seem to be convinced that a new cold war is in fact upon us. And yet look at the results. The Ukrainian people are more interested than ever in aligning with Europe instead of Russia. Sanctions have led to capital flight, a contracting economy, a fallen rouble and the emigration of more educated Russians.\n",
      "Imagine if, instead, Russia had engaged in true diplomacy and worked with Ukraine and the international community to ensure that its interests were protected. That would be better for Ukraine, but also better for Russia and better for the world, which is why we continue to press for this crisis to be resolved in a way that allows a sovereign and democratic Ukraine to determine its future and control its territory. This is not because we want to isolate Russia — we do not — but because we want a strong Russia that is invested in working with us to strengthen the international system as a whole.\n",
      "Similarly, in the South China Sea, the United States makes no claim on territory there. We do not adjudicate claims. But like every nation gathered here, we have an interest in upholding the basic principles of freedom of navigation and the free flow of commerce, and in resolving disputes through international law, not the law of force. So we will defend those principles, while encouraging China and other claimants to resolve their differences peacefully. I say this while recognizing that diplomacy is hard, the outcomes are sometimes unsatisfying and it is rarely politically popular. But I believe that leaders of large nations in particular have an obligation to take those risks, precisely because we are strong enough to protect our interests if and when diplomacy fails.\n",
      "I also believe that to move forward in this new era, we have to be strong enough to acknowledge when what we are doing is not working. For 50 years, the United States pursued a Cuba policy that failed to improve the lives of the Cuban people. We changed that. We continue to have differences with the Cuban Government. We will continue to stand up for human rights. But we address those issues through diplomatic relations, increased commerce and people-to-people ties. As those contacts yield progress, I am confident that our Congress will inevitably lift an embargo that should not be in place any more. Change will not come overnight to Cuba, but I am confident that openness, not coercion, will support the reforms and the better life that the Cuban people deserve, just as I believe that Cuba will find its success if it pursues cooperation with other nations.\n",
      "Now, if it is in the interest of major Powers to uphold international standards, that is even more true for the rest of the community of nations. Look around the world. From Singapore to Colombia to Senegal, the facts show that nations succeed when they pursue an inclusive peace and prosperity within their borders and work cooperatively with countries beyond those borders.\n",
      "That path is now available to a nation such as Iran, which, as of this moment, continues to deploy violent proxies to advance its interests. Those efforts may appear to give it leverage in disputes with its neighbours, but they fuel sectarian conflict that endangers the entire region and isolates Iran from the promise of trade and commerce. The Iranian people have a proud history and are filled with extraordinary potential. But chanting “Death to America” does not create jobs or make Iran more secure. If Iran chooses a different path, that will be good for the security of the region, good for the Iranian people and good for the world.\n",
      "Of course, around the globe, we will continue to be confronted with nations that reject these lessons of history — places where civil strife, border disputes and sectarian wars give rise to terrorist enclaves and humanitarian disasters. Where order has completely broken down, we must act, but we will be stronger when we act together.\n",
      "In such efforts, the United States will always do its part. We will do so mindful of the lessons of the past — not just the lessons of Iraq, but also the example of Libya, where we joined an international coalition\n",
      "under a United Nations mandate to prevent a slaughter. Even as we helped the Libyan people bring an end to the reign of a tyrant, our coalition could have and should have done more to fill a vacuum left behind. We are grateful to the United Nations for its efforts to forge a unity Government. We will help any legitimate Libyan Government as it works to bring the country together.\n",
      "We also have to recognize that we must work more effectively in the future, as an international community, to build capacity for States that are in distress before they collapse. That is why we should celebrate the fact that, later today, the United States will join with more than 50 countries to enlist new capabilities — infantry, intelligence, helicopters, hospitals, and tens of thousands of troops — to strengthen United Nations peacekeeping. These new capabilities can prevent mass killing and ensure that peace agreements are more than words on paper. But we have to do it together. Together, we must strengthen our collective capacity to establish security where order has broken down and to support those who seek a just and lasting peace.\n",
      "Nowhere is our commitment to international order more tested than in Syria. When a dictator slaughters tens of thousands of his own people, that is not just a matter of one nation’s internal affairs. It breeds human suffering on an order of magnitude that affects us all. Likewise, when a terrorist group beheads captives, slaughters the innocent and enslaves women, that is not a single nation’s national security problem. It is an assault on humankind as a whole.\n",
      "I have said before and I will repeat: there is no room to accommodate an apocalyptic cult like the Islamic State in Iraq and the Levant (ISIL), and the United States makes no apologies for using our military, as part of a broad coalition, to go after them. We do so with a determination to ensure that there will never be a safe haven for terrorists who carry out these crimes. We have demonstrated over more than a decade of relentless pursuit of Al-Qaida that we will not be outlasted by extremists.\n",
      "While military power is necessary, it is not sufficient to resolve the situation in Syria. Lasting stability can take hold only when the people of Syria forge an agreement to live together peacefully. The United States is prepared to work with any nation, including Russia and Iran, to resolve the conflict. But we must recognize that after so much bloodshed, so much carnage, there cannot be a return to the pre-war status quo.\n",
      "Let us remember how this started. Al-Assad reacted to peaceful protests by escalating repression and killing that, in turn, created the environment for the current strife. And so Al-Assad and his allies cannot simply pacify the broad majority of a population that has been brutalized by chemical weapons and indiscriminate bombing. Yes, realism dictates that compromise will be required to end the fighting and, ultimately, stamp out ISIL. But realism also requires a managed transition away from Al-Assad and to a new leader, and an inclusive Government that recognizes there must be an end to this chaos so that the Syrian people can begin to rebuild.\n",
      "We know that ISIL — which emerged out of the chaos of Iraq and Syria — depends on perpetual war to survive, but we also know that they gain adherents because of a poisonous ideology. Part of our job, together, is to work to reject such extremism that infects too many of our young people. Part of that effort must be a continued rejection by Muslims of those who distort Islam to preach intolerance and promote violence. It must also involve a rejection by non-Muslims of the ignorance that equates Islam with terrorism.\n",
      "This work will take time. There are no easy answers to Syria, and there are no simple answers to the changes that are taking place in much of the Middle East and North Africa. But so many families need help right now; they do not have time. That is why the United States is increasing the number of refugees whom we welcome within our borders. That is why we will continue to be the largest donor of assistance to support those refugees. Today we are launching new efforts to ensure that our people and our businesses, our universities and our non-governmental organizations can help as well, because in the faces of suffering families, our nation of immigrants sees itself.\n",
      "Of course, in the old ways of thinking, the plight of the powerless, the plight of refugees, the plight of the marginalized did not matter. They were on the periphery of the world’s concerns. Today, our concern for them is driven not just by conscience, but should also be driven by self-interest. Helping people who have been pushed to the margins of our world is not mere charity; it is a matter of collective security. The purpose of this institution is not merely to avoid conflict; it is to galvanize the collective action that makes life better on this planet.\n",
      "The commitments we have made to the Sustainable Development Goals speak to this truth. I believe that \n",
      "capitalism has been the greatest creator of wealth and opportunity that the world has ever known. But from big cities to rural villages around the world, we also know that prosperity is still cruelly out of reach for too many. As His Holiness Pope Francis reminds us, we are stronger when we value the least among these and see them as equal in dignity to ourselves and our sons and our daughters.\n",
      "We can roll back preventable disease and end the scourge of HIV/AIDS. We can stamp out pandemics that recognize no borders. That work may not be on television right now, but as we demonstrated in reversing the spread of Ebola, it can save more lives than anything else we can do. Together, we can eradicate extreme poverty and erase barriers to opportunity. But this requires a sustained commitment to our people so farmers can feed more people, so entrepreneurs can start a business without paying a bribe, so young people have the skills they need to succeed in this modern, knowledge-based economy.\n",
      "We can promote growth through trade that meets a higher standard, and that is what we are doing through the Trans-Pacific Partnership — a trade agreement that encompasses nearly 40 per cent of the global economy, an agreement that will open markets while protecting the rights of workers and protecting the environment that enables development to be sustained.\n",
      "We can roll back the pollution that we put in our skies and help economies lift people out of poverty without condemning our children to the ravages of an ever-warming climate. The same ingenuity that produced the Industrial Age and the Computer Age allows us to harness the potential of clean energy. No country can escape the ravages of climate change. And there is no stronger sign of leadership than putting future generations first. The United States will work with every nation that is willing to do its part so that we can come together in Paris to decisively confront this challenge.\n",
      "Finally, regarding our vision for the future of the Assembly, my belief in moving forward rather than backwards requires us to defend the democratic principles that allow societies to succeed. Let me start from a simple premise. Catastrophes like what we are seeing in Syria do not take place in countries where there is genuine democracy and respect for the universal values this institution is supposed to defend.\n",
      "I recognize that democracy is going to take different forms in different parts of the world. The very idea of a people governing themselves depends upon government giving expression to their unique culture, their unique history, their unique experiences. But some universal truths are self-evident. No person wants to be imprisoned for peaceful worship. No woman should ever be abused with impunity, no girl should be barred from attending school. There should be freedom to peacefully petition those in power without fear of arbitrary laws. These are not ideas of one country or one culture. They are fundamental to human progress. They are a cornerstone of this institution.\n",
      "I realize that in many parts of the world there is a different view — a belief that strong leadership must tolerate no dissent. I hear it not only from America’s adversaries, but — privately, at least — I also hear it from some of our friends. I disagree. I believe a Government that suppresses peaceful dissent is not showing strength. It is showing weakness and it is showing fear.\n",
      "History shows that regimes that fear their own people will eventually crumble, but strong institutions built on the consent of the governed endure long after any one individual is gone. That is why our strongest leaders, from George Washington to Nelson Mandela, have elevated the importance of building strong, democratic institutions over a thirst for perpetual power. Leaders who amend constitutions to stay in office only acknowledge that they failed to build a successful country for their people, because none of us lasts forever. It tells us that power is something they cling to for its own sake rather than for the betterment of those whom they purport to serve.\n",
      "I understand that democracy is frustrating. Democracy in the United States is certainly imperfect. At times it can be dysfunctional. But democracy — the constant struggle to extend rights to more of our people, to give more people a voice — is what allowed us to become the most powerful nation in the world. It is not simply a matter of principle; it is not an abstraction. Democracy, inclusive democracy, makes countries stronger. When opposition parties can seek power peacefully through the ballot, a country draws upon new ideas. When a free media can inform the public, corruption and abuse are exposed and can be rooted out. When civil society thrives, communities can solve problems that Governments cannot necessarily solve alone. When immigrants are welcomed, countries are \n",
      "more productive and more vibrant. When girls can go to school, get a job and pursue unlimited opportunities, that is when a country realizes its full potential.\n",
      "That is what I believe is America’s greatest strength. Not everybody in America agrees with me. That is part of democracy. I believe that the fact that one can walk the streets of this city right now and pass churches and synagogues and temples and mosques where people worship freely; the fact that our nation of immigrants mirrors the diversity of the world — one can find people from everywhere here in New York City — the fact that in this country everybody can contribute, everybody can participate no matter who they are or what they look like or whom they love — that is what makes us strong.\n",
      "I believe that what is true for America is true for virtually all mature democracies. That is no accident. We can be proud of our nations without defining ourselves in opposition to some other group. We can be patriotic without demonizing someone else. We can cherish our own identities — our religion, our ethnicity, our traditions — without putting others down. Our systems are premised on the notion that absolute power will corrupt, but that people, ordinary people, are fundamentally good and value family and friendship, faith and the dignity of hard work. And with appropriate checks and balances, Governments can reflect that goodness. I believe that is the future we must seek together — to believe in the dignity of every individual, to believe we can bridge our differences and choose cooperation over conflict. That is not weakness; that is strength. It is a practical necessity in our interconnected world.\n",
      "Our people understand this. Think of the Liberian doctor who went door to door to search for Ebola cases and to tell families what to do if they show symptoms. Think of the Iranian shopkeeper who said after the nuclear deal, “God willing, now we will be able to offer many more goods at better prices”. Think of the Americans who lowered the flag over our embassy in Havana in 1961, the year I was born, and who returned this summer to raise that flag back up. One of those men said of the Cuban people, “We could do things for them, and they could do things for us. We loved them”. For 50 years we ignored that fact. Think of the families leaving everything they have known behind, risking barren deserts and stormy waters just to find shelter, just to save their children. One Syrian refugee who was met in Hamburg with warm greetings and shelter said,\n",
      "“We feel there are still some people who love other people”.\n",
      "The people of our United Nations are not as different as they have been told. They can be made to fear; they can be taught to hate, but they can also respond to hope. History is littered with the failure of false prophets and fallen empires who believed that might always makes right. That will continue to be the case. We can count on it. But we are called upon to offer a different type of leadership, a leadership strong enough to recognize that nations share common interests and people share a common humanity. And, yes, there are certain ideas and principles that are universal. That is what those who shaped the United Nations 70 years ago understood. Let us carry that faith forward into the future, for it is the only way we can ensure that the future will be brighter, for my children and for everyone’s children.\n"
     ]
    }
   ],
   "source": [
    "#Count the number of times United Nations appears\n",
    "\n",
    "text = df.query(\"year==2015 and country=='USA'\")['text'].values[0] ##Separate the speech given by USA president in 2015\n",
    "count=text.count(\"United Nations\") ##from the speech count the number of times United Nations were used\n",
    "\n",
    "print (f\"'United Nations' appears {count} times.\\n\")\n",
    "print (text)\n"
   ]
  },
  {
   "cell_type": "code",
   "execution_count": 82,
   "id": "39df8d16",
   "metadata": {},
   "outputs": [
    {
     "name": "stdout",
     "output_type": "stream",
     "text": [
      "'UN' appears 8 times\n",
      "\n",
      "\n",
      "Modified Speech\n",
      " Seventy years after the founding of the UN it is worth reflecting on what the members of this body, working together, have helped to achieve. Out of the ashes of the Second World War, having witnessed the unthinkable power of the atomic age, the United States has worked with many nations in the Assembly to prevent a third world war — by forging alliances with old adversaries; by supporting the steady emergence of strong democracies accountable to their people and not to any foreign Power; and by building an international system that imposes a cost on those who choose conflict over cooperation, an order that recognizes the dignity and equal worth of all people.\n",
      "That has been the work of seven decades. That is the ideal that this body has, at its best, pursued. Of course, there have been too many times when, collectively, we have fallen short of those ideals. Over the seven decades, terrible conflicts have claimed untold victims. But we have pressed forward, slowly, steadily, to make a system of international rules and norms that are better and stronger and more consistent.\n",
      "It is that international order that has underwritten unparalleled advances in human liberty and prosperity. It is that collective endeavour that has brought about diplomatic cooperation among the world’s major Powers and buttressed a global economy that has lifted more than a billion people from poverty. It is those international principles that have helped constrain bigger countries from imposing their will on smaller ones and have advanced the emergence of democracy and development and individual liberty on every continent.\n",
      "That progress is real. It can be documented in lives saved, agreements forged, diseases conquered and mouths fed. And yet we come together today knowing that the march of human progress never travels in a straight line, that our work is far from complete and that dangerous currents risk pulling us back into a darker, more disordered world.\n",
      "Today we are seeing the collapse of strongmen and fragile States breeding conflict and driving innocent men, women and children across borders on an epic scale. Brutal networks of terror have stepped into the vacuum. Technologies that empower individuals are now also exploited by those who spread disinformation, suppress dissent or radicalize our youth. Global capital flows have powered growth and investment, but they have also increased the risk of contagion, weakened the bargaining power of workers and accelerated inequality.\n",
      "How should we respond to those trends? There are those who argue that the ideals enshrined in the Charter of the UN are unachievable or out of date, a legacy of a postwar era not suited to our own. In effect, they are arguing for a return to the rules that applied for most of human history and that predate this institution — the belief that power is a zero-sum game, that might makes right, that strong States must impose their will on weaker ones, that the rights of individuals do not matter and that in a time of rapid change, order must be imposed by force.\n",
      "On that basis, we see some major Powers assert themselves in ways that contravene international law. We see an erosion of the democratic principles and human rights that are fundamental to this institution’s mission. Information is strictly controlled and the space for civil society restricted. We are told that such retrenchment is required to beat back disorder; that it is the only way to stamp out terrorism and prevent foreign meddling. In accordance with that logic, we should support tyrants like Bashar Al-Assad, who drops barrel bombs to massacre innocent children, because the alternative is surely worse.\n",
      "This increasing scepticism of our international order can also be found in the most advanced democracies. We see greater polarization and more frequent gridlock, with movements on the far right, and sometimes the left, that insist on stopping the trade that binds our fates to other nations or calling for the building of walls to keep out immigrants. Most ominously, we see the fears of ordinary people being exploited through appeals to sectarianism, tribalism, racism or anti-Semitism; appeals to a glorious past before the body politic was infected by those who look different or worship God differently — a politics of us versus them.\n",
      "The United States is not immune to this. Even as our economy is growing and our troops have largely returned from Iraq and Afghanistan, we see in our debates about America’s role in the world a notion of strength that is defined by opposition to old enemies, perceived adversaries — a rising China or resurgent Russia, a revolutionary Iran or an Islam that is incompatible with peace. We see arguments that the only strength that matters for the United States is bellicose words and shows of military force, and that cooperation and diplomacy will not work.\n",
      "As President of the United States, I am mindful of the dangers that we face. They cross my desk every \n",
      "morning. I lead the strongest military that the world has ever known, and I will never hesitate to protect my country or our allies, unilaterally and by force where necessary. But I stand before the Assembly today believing in my core that we, the nations of the world, cannot return to the old ways of conflict and coercion. We cannot look backwards. We live in an integrated world, one in which we all have a stake in one another’s success.\n",
      "We cannot turn back those forces of integration. No nation here in the Assembly can insulate itself from the threat of terrorism, the risk of financial contagion, the flow of migrants or the danger of a warming planet. The disorder we see is not driven solely by competition between nations or by any single ideology. If we cannot work together more effectively, we will all suffer the consequences.\n",
      "That is true for the United States as well. No matter how powerful our military, how strong our economy, we understand the United States cannot solve the world’s problems alone. In Iraq, the United States learned the hard lesson that even with hundreds of thousands of brave, effective troops and trillions of dollars from our Treasury, it cannot by itself impose stability on a foreign land. Unless we work with other nations under the mantle of international norms, principles and law that offers legitimacy to our efforts, we will not succeed. And unless we work together to defeat the ideas that drive the various communities in a country like Iraq into conflict, any order that our militaries can impose will be temporary.\n",
      "Just as force alone cannot impose order internationally, I believe in my core that repression cannot forge the social cohesion that nations need to succeed. The history of the last two decades proves that in today’s world, dictatorships are unstable. The strongmen of today become the spark of revolution tomorrow. You can jail your opponents, but you cannot imprison ideas. You can try to control access to information, but you cannot turn a lie into truth. It is not a conspiracy of United States-backed non-governmental organizations that exposes corruption and raises the expectations of people around the globe — it is technology, social media and the irreducible desire of people everywhere to make their own choices about how they are governed.\n",
      "Indeed, I believe that in today’s world, the measure of strength is no longer defined by the control of territory. Lasting prosperity does not come solely from\n",
      "the ability to access and extract raw materials. The strength of nations depends on the success of their people — their knowledge, innovation, imagination, creativity, drive and opportunity — and that, in turn, depends on individual rights, good governance and personal security. Both internal repression and foreign aggression are symptoms of a failure to provide that foundation.\n",
      "Politics and solidarity that depend on demonizing others, that draw on religious sectarianism, narrow tribalism or jingoism, may at times look like strength in the moment, but over time their weakness will be exposed. And history tells us that the dark forces unleashed by this type of politics surely make all of us less secure. Our world has been there before. We gain nothing from going back.\n",
      "Instead, I believe that we must go forward in pursuit of our ideals, not abandon them at this critical time. We must give expression to our best hopes, not our deepest fears. This institution was founded because men and women who came before us had the foresight to know that our nations are more secure when we uphold basic laws and norms and pursue a path of cooperation rather than conflict. And strong nations, above all, have a responsibility to uphold that international order.\n",
      "Let me give a concrete example. After I took office, I made it clear that one of the principal achievements of the UN — the nuclear non-proliferation regime — was endangered by Iran’s violation of the Treaty on the Non-Proliferation of Nuclear Weapons. On that basis, the Security Council tightened sanctions on the Iranian Government, and many nations joined us to enforce them. Together, we showed that laws and agreements mean something. But we also understood that the goal of sanctions was not simply to punish Iran. Our objective was to test whether Iran could change course, accept constraints and allow the world to verify that its nuclear programme would be peaceful. For two years, the United States and our partners, including Russia and China, stuck together in complex negotiations. The result is a lasting, comprehensive deal that prevents Iran from obtaining a nuclear weapon while allowing it to access peaceful energy. If the deal is fully implemented, the prohibition on nuclear weapons is strengthened, a potential war is averted and our world is safer. That is the strength of the international system when it works the way it should.\n",
      "That same fidelity to international order guides our responses to other challenges around the world.\n",
      "Consider Russia’s annexation of Crimea and further aggression in eastern Ukraine. America has few economic interests in Ukraine, and we recognize the deep and complex history between Russia and Ukraine. But we cannot stand by when the sovereignty and territorial integrity of a nation is flagrantly violated. If that happens without consequence in Ukraine, it could happen to any of the nations gathered here today. That is the basis of the sanctions that the United States and our partners impose on Russia. It is not a desire to return to a cold war.\n",
      "Now, within Russia, State-controlled media may describe those events as an example of a resurgent Russia — a view shared, by the way, by a number of United States politicians and commentators who have always been deeply sceptical about Russia and seem to be convinced that a new cold war is in fact upon us. And yet look at the results. The Ukrainian people are more interested than ever in aligning with Europe instead of Russia. Sanctions have led to capital flight, a contracting economy, a fallen rouble and the emigration of more educated Russians.\n",
      "Imagine if, instead, Russia had engaged in true diplomacy and worked with Ukraine and the international community to ensure that its interests were protected. That would be better for Ukraine, but also better for Russia and better for the world, which is why we continue to press for this crisis to be resolved in a way that allows a sovereign and democratic Ukraine to determine its future and control its territory. This is not because we want to isolate Russia — we do not — but because we want a strong Russia that is invested in working with us to strengthen the international system as a whole.\n",
      "Similarly, in the South China Sea, the United States makes no claim on territory there. We do not adjudicate claims. But like every nation gathered here, we have an interest in upholding the basic principles of freedom of navigation and the free flow of commerce, and in resolving disputes through international law, not the law of force. So we will defend those principles, while encouraging China and other claimants to resolve their differences peacefully. I say this while recognizing that diplomacy is hard, the outcomes are sometimes unsatisfying and it is rarely politically popular. But I believe that leaders of large nations in particular have an obligation to take those risks, precisely because we are strong enough to protect our interests if and when diplomacy fails.\n",
      "I also believe that to move forward in this new era, we have to be strong enough to acknowledge when what we are doing is not working. For 50 years, the United States pursued a Cuba policy that failed to improve the lives of the Cuban people. We changed that. We continue to have differences with the Cuban Government. We will continue to stand up for human rights. But we address those issues through diplomatic relations, increased commerce and people-to-people ties. As those contacts yield progress, I am confident that our Congress will inevitably lift an embargo that should not be in place any more. Change will not come overnight to Cuba, but I am confident that openness, not coercion, will support the reforms and the better life that the Cuban people deserve, just as I believe that Cuba will find its success if it pursues cooperation with other nations.\n",
      "Now, if it is in the interest of major Powers to uphold international standards, that is even more true for the rest of the community of nations. Look around the world. From Singapore to Colombia to Senegal, the facts show that nations succeed when they pursue an inclusive peace and prosperity within their borders and work cooperatively with countries beyond those borders.\n",
      "That path is now available to a nation such as Iran, which, as of this moment, continues to deploy violent proxies to advance its interests. Those efforts may appear to give it leverage in disputes with its neighbours, but they fuel sectarian conflict that endangers the entire region and isolates Iran from the promise of trade and commerce. The Iranian people have a proud history and are filled with extraordinary potential. But chanting “Death to America” does not create jobs or make Iran more secure. If Iran chooses a different path, that will be good for the security of the region, good for the Iranian people and good for the world.\n",
      "Of course, around the globe, we will continue to be confronted with nations that reject these lessons of history — places where civil strife, border disputes and sectarian wars give rise to terrorist enclaves and humanitarian disasters. Where order has completely broken down, we must act, but we will be stronger when we act together.\n",
      "In such efforts, the United States will always do its part. We will do so mindful of the lessons of the past — not just the lessons of Iraq, but also the example of Libya, where we joined an international coalition\n",
      "under a UN mandate to prevent a slaughter. Even as we helped the Libyan people bring an end to the reign of a tyrant, our coalition could have and should have done more to fill a vacuum left behind. We are grateful to the UN for its efforts to forge a unity Government. We will help any legitimate Libyan Government as it works to bring the country together.\n",
      "We also have to recognize that we must work more effectively in the future, as an international community, to build capacity for States that are in distress before they collapse. That is why we should celebrate the fact that, later today, the United States will join with more than 50 countries to enlist new capabilities — infantry, intelligence, helicopters, hospitals, and tens of thousands of troops — to strengthen UN peacekeeping. These new capabilities can prevent mass killing and ensure that peace agreements are more than words on paper. But we have to do it together. Together, we must strengthen our collective capacity to establish security where order has broken down and to support those who seek a just and lasting peace.\n",
      "Nowhere is our commitment to international order more tested than in Syria. When a dictator slaughters tens of thousands of his own people, that is not just a matter of one nation’s internal affairs. It breeds human suffering on an order of magnitude that affects us all. Likewise, when a terrorist group beheads captives, slaughters the innocent and enslaves women, that is not a single nation’s national security problem. It is an assault on humankind as a whole.\n",
      "I have said before and I will repeat: there is no room to accommodate an apocalyptic cult like the Islamic State in Iraq and the Levant (ISIL), and the United States makes no apologies for using our military, as part of a broad coalition, to go after them. We do so with a determination to ensure that there will never be a safe haven for terrorists who carry out these crimes. We have demonstrated over more than a decade of relentless pursuit of Al-Qaida that we will not be outlasted by extremists.\n",
      "While military power is necessary, it is not sufficient to resolve the situation in Syria. Lasting stability can take hold only when the people of Syria forge an agreement to live together peacefully. The United States is prepared to work with any nation, including Russia and Iran, to resolve the conflict. But we must recognize that after so much bloodshed, so much carnage, there cannot be a return to the pre-war status quo.\n",
      "Let us remember how this started. Al-Assad reacted to peaceful protests by escalating repression and killing that, in turn, created the environment for the current strife. And so Al-Assad and his allies cannot simply pacify the broad majority of a population that has been brutalized by chemical weapons and indiscriminate bombing. Yes, realism dictates that compromise will be required to end the fighting and, ultimately, stamp out ISIL. But realism also requires a managed transition away from Al-Assad and to a new leader, and an inclusive Government that recognizes there must be an end to this chaos so that the Syrian people can begin to rebuild.\n",
      "We know that ISIL — which emerged out of the chaos of Iraq and Syria — depends on perpetual war to survive, but we also know that they gain adherents because of a poisonous ideology. Part of our job, together, is to work to reject such extremism that infects too many of our young people. Part of that effort must be a continued rejection by Muslims of those who distort Islam to preach intolerance and promote violence. It must also involve a rejection by non-Muslims of the ignorance that equates Islam with terrorism.\n",
      "This work will take time. There are no easy answers to Syria, and there are no simple answers to the changes that are taking place in much of the Middle East and North Africa. But so many families need help right now; they do not have time. That is why the United States is increasing the number of refugees whom we welcome within our borders. That is why we will continue to be the largest donor of assistance to support those refugees. Today we are launching new efforts to ensure that our people and our businesses, our universities and our non-governmental organizations can help as well, because in the faces of suffering families, our nation of immigrants sees itself.\n",
      "Of course, in the old ways of thinking, the plight of the powerless, the plight of refugees, the plight of the marginalized did not matter. They were on the periphery of the world’s concerns. Today, our concern for them is driven not just by conscience, but should also be driven by self-interest. Helping people who have been pushed to the margins of our world is not mere charity; it is a matter of collective security. The purpose of this institution is not merely to avoid conflict; it is to galvanize the collective action that makes life better on this planet.\n",
      "The commitments we have made to the Sustainable Development Goals speak to this truth. I believe that \n",
      "capitalism has been the greatest creator of wealth and opportunity that the world has ever known. But from big cities to rural villages around the world, we also know that prosperity is still cruelly out of reach for too many. As His Holiness Pope Francis reminds us, we are stronger when we value the least among these and see them as equal in dignity to ourselves and our sons and our daughters.\n",
      "We can roll back preventable disease and end the scourge of HIV/AIDS. We can stamp out pandemics that recognize no borders. That work may not be on television right now, but as we demonstrated in reversing the spread of Ebola, it can save more lives than anything else we can do. Together, we can eradicate extreme poverty and erase barriers to opportunity. But this requires a sustained commitment to our people so farmers can feed more people, so entrepreneurs can start a business without paying a bribe, so young people have the skills they need to succeed in this modern, knowledge-based economy.\n",
      "We can promote growth through trade that meets a higher standard, and that is what we are doing through the Trans-Pacific Partnership — a trade agreement that encompasses nearly 40 per cent of the global economy, an agreement that will open markets while protecting the rights of workers and protecting the environment that enables development to be sustained.\n",
      "We can roll back the pollution that we put in our skies and help economies lift people out of poverty without condemning our children to the ravages of an ever-warming climate. The same ingenuity that produced the Industrial Age and the Computer Age allows us to harness the potential of clean energy. No country can escape the ravages of climate change. And there is no stronger sign of leadership than putting future generations first. The United States will work with every nation that is willing to do its part so that we can come together in Paris to decisively confront this challenge.\n",
      "Finally, regarding our vision for the future of the Assembly, my belief in moving forward rather than backwards requires us to defend the democratic principles that allow societies to succeed. Let me start from a simple premise. Catastrophes like what we are seeing in Syria do not take place in countries where there is genuine democracy and respect for the universal values this institution is supposed to defend.\n",
      "I recognize that democracy is going to take different forms in different parts of the world. The very idea of a people governing themselves depends upon government giving expression to their unique culture, their unique history, their unique experiences. But some universal truths are self-evident. No person wants to be imprisoned for peaceful worship. No woman should ever be abused with impunity, no girl should be barred from attending school. There should be freedom to peacefully petition those in power without fear of arbitrary laws. These are not ideas of one country or one culture. They are fundamental to human progress. They are a cornerstone of this institution.\n",
      "I realize that in many parts of the world there is a different view — a belief that strong leadership must tolerate no dissent. I hear it not only from America’s adversaries, but — privately, at least — I also hear it from some of our friends. I disagree. I believe a Government that suppresses peaceful dissent is not showing strength. It is showing weakness and it is showing fear.\n",
      "History shows that regimes that fear their own people will eventually crumble, but strong institutions built on the consent of the governed endure long after any one individual is gone. That is why our strongest leaders, from George Washington to Nelson Mandela, have elevated the importance of building strong, democratic institutions over a thirst for perpetual power. Leaders who amend constitutions to stay in office only acknowledge that they failed to build a successful country for their people, because none of us lasts forever. It tells us that power is something they cling to for its own sake rather than for the betterment of those whom they purport to serve.\n",
      "I understand that democracy is frustrating. Democracy in the United States is certainly imperfect. At times it can be dysfunctional. But democracy — the constant struggle to extend rights to more of our people, to give more people a voice — is what allowed us to become the most powerful nation in the world. It is not simply a matter of principle; it is not an abstraction. Democracy, inclusive democracy, makes countries stronger. When opposition parties can seek power peacefully through the ballot, a country draws upon new ideas. When a free media can inform the public, corruption and abuse are exposed and can be rooted out. When civil society thrives, communities can solve problems that Governments cannot necessarily solve alone. When immigrants are welcomed, countries are \n",
      "more productive and more vibrant. When girls can go to school, get a job and pursue unlimited opportunities, that is when a country realizes its full potential.\n",
      "That is what I believe is America’s greatest strength. Not everybody in America agrees with me. That is part of democracy. I believe that the fact that one can walk the streets of this city right now and pass churches and synagogues and temples and mosques where people worship freely; the fact that our nation of immigrants mirrors the diversity of the world — one can find people from everywhere here in New York City — the fact that in this country everybody can contribute, everybody can participate no matter who they are or what they look like or whom they love — that is what makes us strong.\n",
      "I believe that what is true for America is true for virtually all mature democracies. That is no accident. We can be proud of our nations without defining ourselves in opposition to some other group. We can be patriotic without demonizing someone else. We can cherish our own identities — our religion, our ethnicity, our traditions — without putting others down. Our systems are premised on the notion that absolute power will corrupt, but that people, ordinary people, are fundamentally good and value family and friendship, faith and the dignity of hard work. And with appropriate checks and balances, Governments can reflect that goodness. I believe that is the future we must seek together — to believe in the dignity of every individual, to believe we can bridge our differences and choose cooperation over conflict. That is not weakness; that is strength. It is a practical necessity in our interconnected world.\n",
      "Our people understand this. Think of the Liberian doctor who went door to door to search for Ebola cases and to tell families what to do if they show symptoms. Think of the Iranian shopkeeper who said after the nuclear deal, “God willing, now we will be able to offer many more goods at better prices”. Think of the Americans who lowered the flag over our embassy in Havana in 1961, the year I was born, and who returned this summer to raise that flag back up. One of those men said of the Cuban people, “We could do things for them, and they could do things for us. We loved them”. For 50 years we ignored that fact. Think of the families leaving everything they have known behind, risking barren deserts and stormy waters just to find shelter, just to save their children. One Syrian refugee who was met in Hamburg with warm greetings and shelter said,\n",
      "“We feel there are still some people who love other people”.\n",
      "The people of our UN are not as different as they have been told. They can be made to fear; they can be taught to hate, but they can also respond to hope. History is littered with the failure of false prophets and fallen empires who believed that might always makes right. That will continue to be the case. We can count on it. But we are called upon to offer a different type of leadership, a leadership strong enough to recognize that nations share common interests and people share a common humanity. And, yes, there are certain ideas and principles that are universal. That is what those who shaped the UN 70 years ago understood. Let us carry that faith forward into the future, for it is the only way we can ensure that the future will be brighter, for my children and for everyone’s children.\n"
     ]
    },
    {
     "name": "stderr",
     "output_type": "stream",
     "text": [
      "/var/folders/v3/4hcr1rj95tx84yr5b63yvs7r0000gn/T/ipykernel_18068/1119187682.py:6: SettingWithCopyWarning: \n",
      "A value is trying to be set on a copy of a slice from a DataFrame\n",
      "\n",
      "See the caveats in the documentation: https://pandas.pydata.org/pandas-docs/stable/user_guide/indexing.html#returning-a-view-versus-a-copy\n",
      "  df['text'][i] = res\n"
     ]
    }
   ],
   "source": [
    "number_of_rows = len(df.index)\n",
    "for i in range(number_of_rows): ### Unify all appearances of United Nations with UN\n",
    "    if df['year'][i]==2015 and df['country'][i]=='USA':\n",
    "        if \"United Nations\" in df['text'][i]:\n",
    "            res = df['text'][i].replace('United Nations','UN') #modified text is stored back to the original dataframe\n",
    "            df['text'][i] = res\n",
    "            \n",
    "Modified_Speech = df.query(\"year==2015 and country=='USA'\")['text'].values[0]\n",
    "print(f\"'UN' appears {Modified_Speech.count('UN')} times\\n\\n\")\n",
    "print(\"Modified Speech\\n\",Modified_Speech)\n",
    "\n"
   ]
  }
 ],
 "metadata": {
  "kernelspec": {
   "display_name": "Python 3 (ipykernel)",
   "language": "python",
   "name": "python3"
  },
  "language_info": {
   "codemirror_mode": {
    "name": "ipython",
    "version": 3
   },
   "file_extension": ".py",
   "mimetype": "text/x-python",
   "name": "python",
   "nbconvert_exporter": "python",
   "pygments_lexer": "ipython3",
   "version": "3.9.7"
  }
 },
 "nbformat": 4,
 "nbformat_minor": 5
}

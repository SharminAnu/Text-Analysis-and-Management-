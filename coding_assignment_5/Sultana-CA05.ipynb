{
 "cells": [
  {
   "cell_type": "markdown",
   "id": "c60726fb",
   "metadata": {},
   "source": [
    "# Coding Assignment 5"
   ]
  },
  {
   "cell_type": "code",
   "execution_count": 50,
   "id": "0b0311ea",
   "metadata": {},
   "outputs": [],
   "source": [
    "#Necessary libraries\n",
    "import os\n",
    "import pandas as pd\n",
    "import numpy as np\n",
    "from sklearn.model_selection import train_test_split"
   ]
  },
  {
   "cell_type": "code",
   "execution_count": 51,
   "id": "529e2376",
   "metadata": {},
   "outputs": [],
   "source": [
    "#Laod the dataset\n",
    "file = os.getcwd() + \"/blueprints-text/data/jdt-bugs-dataset/eclipse_jdt.csv.gz\" ### real location\n",
    "df = pd.read_csv(file)"
   ]
  },
  {
   "cell_type": "code",
   "execution_count": 52,
   "id": "1e0967bc",
   "metadata": {},
   "outputs": [],
   "source": [
    "df = df[['Title','Description','Priority']] ### Remove other attributes\n",
    "df = df.dropna()"
   ]
  },
  {
   "cell_type": "code",
   "execution_count": 53,
   "id": "fd0a8ce9",
   "metadata": {},
   "outputs": [],
   "source": [
    "df['text'] = df['Title'] + ' ' + df['Description'] ### Combine title and description into text\n",
    "df = df.drop(columns=['Title','Description']) ### Drop title and description columns"
   ]
  },
  {
   "cell_type": "markdown",
   "id": "08ce752d",
   "metadata": {},
   "source": [
    "# 1. Compute the distribution of classes in the training data on the \"Priority\" label obtained from df in TextClassification.ipynb. Is this distribution close to that of df?"
   ]
  },
  {
   "cell_type": "code",
   "execution_count": 56,
   "id": "b2c564f0",
   "metadata": {},
   "outputs": [],
   "source": [
    "\"\"\"\n",
    "Compute probability of each priority level\n",
    "\n",
    "\"\"\" \n",
    "P1_df = len(df[df[\"Priority\"]=='P1'])/len(df) #Probability of Priority label 1\n",
    "P2_df = len(df[df[\"Priority\"]=='P2'])/len(df) #Probability of Priority label 2\n",
    "P3_df = len(df[df[\"Priority\"]=='P3'])/len(df) #Probability of Priority label 3\n",
    "P4_df = len(df[df[\"Priority\"]=='P4'])/len(df) #Probability of Priority label 4\n",
    "P5_df = len(df[df[\"Priority\"]=='P5'])/len(df) #Probability of Priority label 5\n",
    "\n",
    "\"\"\"\n",
    "ensure the probability adds up to 1\n",
    "\n",
    "\"\"\"\n",
    "df_Priority = np.array ([P1_df, P2_df, P3_df, P4_df, P5_df]) \n",
    "n_df = df_Priority.shape[0]\n",
    "index_df = np.arange(n_df)\n",
    "assert sum(df_Priority) == 1.0"
   ]
  },
  {
   "cell_type": "code",
   "execution_count": 57,
   "id": "ae9197a8",
   "metadata": {},
   "outputs": [],
   "source": [
    "\"\"\"\n",
    "Split the dataset (df): 80% as Trainning Data and 20% as Test Data\n",
    "\"\"\"\n",
    "X_train, X_test, Y_train, Y_test = train_test_split(df['text'],\n",
    "                                                    df['Priority'],\n",
    "                                                    test_size=0.2, ### 80-20 train-test split\n",
    "                                                    random_state=42,\n",
    "                                                    stratify=df['Priority'])"
   ]
  },
  {
   "cell_type": "code",
   "execution_count": 58,
   "id": "08db8c11",
   "metadata": {},
   "outputs": [],
   "source": [
    "\"\"\"\n",
    "Compute probability of each priority level on Y_train (i.e: df_train[\"Priority\"])\n",
    "\n",
    "\"\"\" \n",
    "\n",
    "P1_Y_train = len(Y_train[Y_train=='P1'])/len(Y_train) #Probability of Priority label 1\n",
    "P2_Y_train = len(Y_train[Y_train=='P2'])/len(Y_train) #Probability of Priority label 2\n",
    "P3_Y_train = len(Y_train[Y_train=='P3'])/len(Y_train) #Probability of Priority label 3\n",
    "P4_Y_train = len(Y_train[Y_train=='P4'])/len(Y_train) #Probability of Priority label 4\n",
    "P5_Y_train = len(Y_train[Y_train=='P5'])/len(Y_train) #Probability of Priority label 5\n",
    "\n",
    "\"\"\"\n",
    "ensure the probability adds up to 1\n",
    "\n",
    "\"\"\"\n",
    "Y_train_priority = np.array([P1_Y_train, P2_Y_train, P3_Y_train, P4_Y_train, P5_Y_train])\n",
    "\n",
    "n_train = Y_train_priority.shape[0]\n",
    "index_train = np.arange(n_train)\n",
    "assert sum(Y_train_priority) == 1.0"
   ]
  },
  {
   "attachments": {
    "image.png": {
     "image/png": "[encoded data removed]"
    }
   },
   "cell_type": "markdown",
   "id": "9ea3e645",
   "metadata": {},
   "source": [
    "KL-divergence of p to q over a set of outcomes is defined by \n",
    "![image.png](attachment:image.png)"
   ]
  },
  {
   "cell_type": "code",
   "execution_count": 59,
   "id": "06625b36",
   "metadata": {},
   "outputs": [],
   "source": [
    "from math import log2\n",
    " \n",
    "# calculate the kl divergence\n",
    "def kl_divergence(p, q):\n",
    "    return sum(p[i] * log2(p[i]/q[i]) for i in range(len(p)))"
   ]
  },
  {
   "cell_type": "code",
   "execution_count": 60,
   "id": "9a18744e",
   "metadata": {},
   "outputs": [
    {
     "name": "stdout",
     "output_type": "stream",
     "text": [
      "KL(P || Q) of original dataset: 0.00000002\n"
     ]
    }
   ],
   "source": [
    "KL_imbalanced = kl_divergence(df_Priority, Y_train_priority)\n",
    "\n",
    "print('KL(P || Q) of original dataset: %.8f' % KL_imbalanced)"
   ]
  },
  {
   "cell_type": "markdown",
   "id": "7552d91b",
   "metadata": {},
   "source": [
    "Comment #1: KL divergence on df[\"Priority\"] and df_train[\"Priority] is closer to zero so we can say that this two probability distributions are close to each other"
   ]
  },
  {
   "cell_type": "markdown",
   "id": "44001833",
   "metadata": {},
   "source": [
    "# 2. Compute the distrubiton of classes in the training data on the \"Priority\" label obtained from df_balanced in TextClassfication.ipynb. Is this distribution close to that of df_new? "
   ]
  },
  {
   "cell_type": "code",
   "execution_count": 61,
   "id": "3cf5c65a",
   "metadata": {},
   "outputs": [],
   "source": [
    "\"\"\"\n",
    "Balance the dataset\n",
    "\n",
    "\"\"\"\n",
    "\n",
    "# Sample 4000 bug reports with priority P3 \n",
    "df_P3 = df[df['Priority'] == 'P3'].sample(n=4000, random_state=123)\n",
    "\n",
    "# Create a separate dataframe containing all other bug reports\n",
    "df_Rest = df[df['Priority'] != 'P3']\n",
    "\n",
    "# Concatenate the two dataframes to create the new balanced bug reports dataset\n",
    "df_balanced = pd.concat([df_Rest, df_P3])\n",
    "\n",
    "# Loading the balanced dataframe\n",
    "\n",
    "df_new = df_balanced[['text', 'Priority']]\n",
    "df_new = df_new.dropna()\n"
   ]
  },
  {
   "cell_type": "code",
   "execution_count": 62,
   "id": "1b9905a9",
   "metadata": {},
   "outputs": [],
   "source": [
    "\"\"\"\n",
    "Compute probability of each priority level on balanced dataset\n",
    "\n",
    "\"\"\" \n",
    "P1_df_bl = len(df_new[df_new[\"Priority\"]=='P1'])/len(df_new) #Probability of Priority label 1\n",
    "P2_df_bl = len(df_new[df_new[\"Priority\"]=='P2'])/len(df_new) #Probability of Priority label 2\n",
    "P3_df_bl = len(df_new[df_new[\"Priority\"]=='P3'])/len(df_new) #Probability of Priority label 3\n",
    "P4_df_bl = len(df_new[df_new[\"Priority\"]=='P4'])/len(df_new) #Probability of Priority label 4\n",
    "P5_df_bl = len(df_new[df_new[\"Priority\"]=='P5'])/len(df_new) #Probability of Priority label 5"
   ]
  },
  {
   "cell_type": "code",
   "execution_count": 63,
   "id": "b9ca6612",
   "metadata": {},
   "outputs": [],
   "source": [
    "\"\"\"\n",
    "ensure the probability adds up to 1\n",
    "\n",
    "\"\"\"\n",
    "df_new_Priority = np.array ([P1_df_bl, P2_df_bl, P3_df_bl, P4_df_bl, P5_df_bl]) \n",
    "n_df_bl = df_new_Priority.shape[0]\n",
    "index_df_bl = np.arange(n_df_bl)\n",
    "assert sum(df_new_Priority) == 1.0"
   ]
  },
  {
   "cell_type": "code",
   "execution_count": 64,
   "id": "56549978",
   "metadata": {},
   "outputs": [],
   "source": [
    "\n",
    "# Train-Test Split\n",
    "X_train_new, X_test_new, Y_train_new, Y_test_new = train_test_split(df_new['text'],\n",
    "                                                    df_new['Priority'],\n",
    "                                                    test_size=0.2,\n",
    "                                                    random_state=42,\n",
    "                                                    stratify=df_new['Priority'])"
   ]
  },
  {
   "cell_type": "code",
   "execution_count": 65,
   "id": "3e4d6733",
   "metadata": {},
   "outputs": [],
   "source": [
    "\"\"\"\n",
    "Compute probability of each priority level on Y_train (i.e: df_train[\"Priority\"])\n",
    "\n",
    "\"\"\" \n",
    "\n",
    "P1_Y_train_bl = len(Y_train_new[Y_train_new=='P1'])/len(Y_train_new) #Probability of Priority label 1\n",
    "P2_Y_train_bl = len(Y_train_new[Y_train_new=='P2'])/len(Y_train_new) #Probability of Priority label 2\n",
    "P3_Y_train_bl = len(Y_train_new[Y_train_new=='P3'])/len(Y_train_new) #Probability of Priority label 3\n",
    "P4_Y_train_bl = len(Y_train_new[Y_train_new=='P4'])/len(Y_train_new) #Probability of Priority label 4\n",
    "P5_Y_train_bl = len(Y_train_new[Y_train_new=='P5'])/len(Y_train_new) #Probability of Priority label 5\n",
    "\n",
    "\"\"\"\n",
    "ensure the probability adds up to 1\n",
    "\n",
    "\"\"\"\n",
    "Y_train_new_priority = np.array([P1_Y_train_bl, P2_Y_train_bl, P3_Y_train_bl, P4_Y_train_bl, P5_Y_train_bl])\n",
    "\n",
    "n_train_bl = Y_train_new_priority.shape[0]\n",
    "index_train_bl = np.arange(n_train_bl)\n",
    "assert sum(Y_train_new_priority) == 1.0"
   ]
  },
  {
   "cell_type": "code",
   "execution_count": 66,
   "id": "f55a8b42",
   "metadata": {},
   "outputs": [
    {
     "name": "stdout",
     "output_type": "stream",
     "text": [
      "KL(P || Q) on Balanced dataset: 0.00000011\n"
     ]
    }
   ],
   "source": [
    "KL_balanced = kl_divergence(df_new_Priority, Y_train_new_priority)\n",
    "print('KL(P || Q) on Balanced dataset: %.8f' % KL_balanced )\n"
   ]
  },
  {
   "cell_type": "markdown",
   "id": "9c20b98a",
   "metadata": {},
   "source": [
    "Comment #2: KL divergence on df_balanced[\"Priority\"] and df_balanced_train[\"Priority] is closer to zero so we can say that this two probability distributions are close to each other"
   ]
  },
  {
   "cell_type": "markdown",
   "id": "6161b9cc",
   "metadata": {},
   "source": [
    "# 3. What conclusions can you draw about the training set selections against the underlying datasets from the label-distribution point of view?"
   ]
  },
  {
   "cell_type": "code",
   "execution_count": 67,
   "id": "a47a2e02",
   "metadata": {},
   "outputs": [
    {
     "data": {
      "text/plain": [
       "True"
      ]
     },
     "execution_count": 67,
     "metadata": {},
     "output_type": "execute_result"
    }
   ],
   "source": [
    "KL_imbalanced < KL_balanced"
   ]
  },
  {
   "cell_type": "markdown",
   "id": "a588158b",
   "metadata": {},
   "source": [
    "Comment #3: We know that the lower the KL divergence value, the better we have matched the true distribution with our approximation. Since the KL divergence value for the imbalanced data is lower than the balanced dataset, we can conclude that information loss in imbalanced data is less than the balanced data so df will give better approximation than df_new."
   ]
  },
  {
   "cell_type": "code",
   "execution_count": null,
   "id": "2ea4ad5d",
   "metadata": {},
   "outputs": [],
   "source": []
  }
 ],
 "metadata": {
  "kernelspec": {
   "display_name": "Python 3 (ipykernel)",
   "language": "python",
   "name": "python3"
  },
  "language_info": {
   "codemirror_mode": {
    "name": "ipython",
    "version": 3
   },
   "file_extension": ".py",
   "mimetype": "text/x-python",
   "name": "python",
   "nbconvert_exporter": "python",
   "pygments_lexer": "ipython3",
   "version": "3.9.7"
  }
 },
 "nbformat": 4,
 "nbformat_minor": 5
}
